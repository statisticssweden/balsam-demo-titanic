{
 "cells": [
  {
   "cell_type": "markdown",
   "id": "40bcf0e6-31f3-4cd0-882e-77aa8880b567",
   "metadata": {},
   "source": [
    "# Introduktion\n",
    "Denna fil körs först när demo ska genomföras. Filen laddar över demo-datafiler från repo/mapp till den bucket som skapats för det nya projektet. (utifrån mallen)\n"
   ]
  },
  {
   "cell_type": "code",
   "execution_count": 1,
   "id": "6ab31212-38a4-4ff7-8bc9-9e765d1e558d",
   "metadata": {
    "tags": []
   },
   "outputs": [
    {
     "name": "stdout",
     "output_type": "stream",
     "text": [
      "PWD=/home/jovyan/TestML\n",
      "JPY_SESSION_NAME=TestML/0d54d1ff-fa00-43db-b545-23d9e1b9551f\n",
      "OLDPWD=/home/jovyan/TestML\n"
     ]
    }
   ],
   "source": [
    "#hämta bucket-namn utifrån bakgrundsvariabler\n",
    "!env | grep Test\n",
    "#\"jakob_demovisar\"\n",
    "\n",
    "#kopiera filer från /Demodata/ till den nyskapade bucket \n",
    "#fil /jakob_demovisar/Demodata/train.csv kopieras in till bucket: /[något slumpmässigt]/jakob_demovisar/train.csv\n"
   ]
  },
  {
   "cell_type": "code",
   "execution_count": 2,
   "id": "d6958874-bd8b-4cde-a5a7-409a975ed0aa",
   "metadata": {},
   "outputs": [],
   "source": [
    "import os"
   ]
  },
  {
   "cell_type": "code",
   "execution_count": null,
   "id": "38e86170-b851-4c57-a117-ac690c8aba63",
   "metadata": {},
   "outputs": [],
   "source": []
  }
 ],
 "metadata": {
  "kernelspec": {
   "display_name": "Python 3 (ipykernel)",
   "language": "python",
   "name": "python3"
  },
  "language_info": {
   "codemirror_mode": {
    "name": "ipython",
    "version": 3
   },
   "file_extension": ".py",
   "mimetype": "text/x-python",
   "name": "python",
   "nbconvert_exporter": "python",
   "pygments_lexer": "ipython3",
   "version": "3.9.7"
  }
 },
 "nbformat": 4,
 "nbformat_minor": 5
}
