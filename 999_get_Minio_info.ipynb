{
 "cells": [
  {
   "cell_type": "code",
   "execution_count": 4,
   "id": "a18355db-7f7b-4cc7-92b0-580f7b163bf6",
   "metadata": {
    "tags": []
   },
   "outputs": [
    {
     "name": "stdout",
     "output_type": "stream",
     "text": [
      "balsam-minio-api-pilot.tanzu.scb.intra\n"
     ]
    }
   ],
   "source": [
    "import os\n",
    "print(os.getenv(\"JUPYTERLAB_S3_ENDPOINT\"))"
   ]
  },
  {
   "cell_type": "markdown",
   "id": "2b9c27b7-488a-42e0-bb4f-7d2b5b15c974",
   "metadata": {},
   "source": [
    "**Man måste lägga till \"http://\"!**"
   ]
  },
  {
   "cell_type": "code",
   "execution_count": 2,
   "id": "eca59314-65f5-4f09-8463-77f6c3d596b9",
   "metadata": {
    "tags": []
   },
   "outputs": [
    {
     "name": "stdout",
     "output_type": "stream",
     "text": [
      "riibFJQd\n"
     ]
    }
   ],
   "source": [
    "print(os.getenv(\"JUPYTERLAB_S3_ACCESS_KEY_ID\"))"
   ]
  },
  {
   "cell_type": "code",
   "execution_count": 3,
   "id": "9afa95df-ab1f-4ce8-b41e-e94b5d2a31c1",
   "metadata": {
    "tags": []
   },
   "outputs": [
    {
     "name": "stdout",
     "output_type": "stream",
     "text": [
      "d5pZxBox\n"
     ]
    }
   ],
   "source": [
    "print(os.getenv(\"JUPYTERLAB_S3_SECRET_ACCESS_KEY\"))"
   ]
  },
  {
   "cell_type": "code",
   "execution_count": null,
   "id": "d2f1ca39-743c-4e62-a85c-724245c7765f",
   "metadata": {},
   "outputs": [],
   "source": []
  }
 ],
 "metadata": {
  "kernelspec": {
   "display_name": "Python 3 (ipykernel)",
   "language": "python",
   "name": "python3"
  },
  "language_info": {
   "codemirror_mode": {
    "name": "ipython",
    "version": 3
   },
   "file_extension": ".py",
   "mimetype": "text/x-python",
   "name": "python",
   "nbconvert_exporter": "python",
   "pygments_lexer": "ipython3",
   "version": "3.9.7"
  }
 },
 "nbformat": 4,
 "nbformat_minor": 5
}
